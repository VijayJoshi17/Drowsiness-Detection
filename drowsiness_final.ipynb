{
  "cells": [
    {
      "cell_type": "code",
      "execution_count": null,
      "metadata": {
        "id": "iCK_39zPjaLf"
      },
      "outputs": [],
      "source": [
        "import os\n",
        "import matplotlib.pyplot as plt\n",
        "import numpy as np\n",
        "import tensorflow as tf\n",
        "from tensorflow.keras.preprocessing.image import ImageDataGenerator\n",
        "from tensorflow.keras.layers import Conv2D, MaxPooling2D, Flatten,Dense, Dropout\n",
        "from tensorflow.keras.models import Sequential\n",
        "from tensorflow.keras.optimizers import Adam\n",
        "from tensorflow.keras.utils import to_categorical"
      ]
    },
    {
      "cell_type": "code",
      "execution_count": null,
      "metadata": {
        "id": "tbJ_yKHp_ZlP"
      },
      "outputs": [],
      "source": []
    },
    {
      "cell_type": "code",
      "execution_count": null,
      "metadata": {
        "id": "RI4D204olpW2"
      },
      "outputs": [],
      "source": [
        "open_eyes_dir = \"/content/drive/MyDrive/ML_INNOVATIVE/train_new/Open\"\n",
        "closed_eyes_dir = \"/content/drive/MyDrive/ML_INNOVATIVE/train_new/Closed\"\n",
        "yawn_dir = \"/content/drive/MyDrive/ML_INNOVATIVE/train_new/yawn\"\n",
        "no_yawn_dir = \"/content/drive/MyDrive/ML_INNOVATIVE/train_new/no_yawn\"\n",
        "posture_strong = \"/content/drive/MyDrive/ML_INNOVATIVE/Posture/POSTURE/pos_strong\"\n",
        "posture_weak = \"/content/drive/MyDrive/ML_INNOVATIVE/Posture/POSTURE/pos_weak\""
      ]
    },
    {
      "cell_type": "code",
      "execution_count": null,
      "metadata": {
        "colab": {
          "base_uri": "https://localhost:8080/"
        },
        "id": "6OLZtPzFLp0w",
        "outputId": "d17dd150-15d4-4cd5-d606-062b1013ca92"
      },
      "outputs": [],
      "source": [
        "from google.colab import drive\n",
        "drive.mount('/content/drive')"
      ]
    },
    {
      "cell_type": "code",
      "execution_count": null,
      "metadata": {
        "id": "mpYXbrGd2yeB"
      },
      "outputs": [],
      "source": [
        "image_height, image_width = 100, 100\n",
        "epochs = 20\n",
        "batch_size = 32"
      ]
    },
    {
      "cell_type": "code",
      "execution_count": null,
      "metadata": {
        "id": "McIWVwWFmX4u"
      },
      "outputs": [],
      "source": [
        "def load_and_preprocess_images(directory, label):\n",
        "    images = []\n",
        "    labels = []\n",
        "\n",
        "    for filename in os.listdir(directory):\n",
        "        if filename.endswith(\".jpg\"):\n",
        "            img = tf.keras.preprocessing.image.load_img(os.path.join(directory, filename), target_size=(image_height, image_width))\n",
        "            img_array = tf.keras.preprocessing.image.img_to_array(img) / 255.0\n",
        "            images.append(img_array)\n",
        "            labels.append(label)\n",
        "\n",
        "    return images, labels"
      ]
    },
    {
      "cell_type": "code",
      "execution_count": null,
      "metadata": {
        "id": "FPJ2p9iNmX64"
      },
      "outputs": [],
      "source": [
        "open_eyes_images, open_eyes_labels = load_and_preprocess_images(open_eyes_dir, 0)  # Label 0 for \"open_eyes\"\n",
        "closed_eyes_images, closed_eyes_labels = load_and_preprocess_images(closed_eyes_dir, 1)  # Label 1 for \"closed_eyes\"\n",
        "yawn_images, yawn_labels = load_and_preprocess_images(yawn_dir, 2)  # Label 2 for \"yawn\"\n",
        "no_yawn_images, no_yawn_labels = load_and_preprocess_images(no_yawn_dir, 3)  # Label 3 for \"no_yawn\"\n",
        "posture_strong_images, posture_strong_labels = load_and_preprocess_images(posture_strong, 4)  # Label 4 for \"posture_strong\"\n",
        "posture_weak_images, posture_weak_labels = load_and_preprocess_images(posture_weak, 5)  # Label 5 for \"posture_weak\""
      ]
    },
    {
      "cell_type": "code",
      "execution_count": null,
      "metadata": {
        "id": "eLghExTwe-He"
      },
      "outputs": [],
      "source": []
    },
    {
      "cell_type": "markdown",
      "metadata": {
        "id": "UGfFNmhnJmic"
      },
      "source": []
    },
    {
      "cell_type": "code",
      "execution_count": null,
      "metadata": {
        "id": "YM4Akgw6mX8q"
      },
      "outputs": [],
      "source": [
        "X = np.concatenate((open_eyes_images, closed_eyes_images, yawn_images, no_yawn_images, posture_strong_images, posture_weak_images), axis=0)\n",
        "y = np.concatenate((np.zeros(len(open_eyes_labels)), np.ones(len(closed_eyes_labels)), np.full(len(yawn_labels), 2),np.full(len(no_yawn_labels), 3), np.full(len(posture_strong_labels), 4), np.full(len(posture_weak_labels), 5)), axis=0)"
      ]
    },
    {
      "cell_type": "code",
      "execution_count": null,
      "metadata": {
        "id": "ZXvpGhspmYAF"
      },
      "outputs": [],
      "source": [
        "from sklearn.utils import shuffle\n",
        "\n",
        "X, y = shuffle(X, y, random_state=42)\n",
        "\n",
        "split_ratio = 0.8\n",
        "split_index = int(len(X) * split_ratio)\n",
        "\n",
        "X_train, y_train = X[:split_index], y[:split_index]\n",
        "X_val, y_val = X[split_index:], y[split_index:]"
      ]
    },
    {
      "cell_type": "code",
      "execution_count": null,
      "metadata": {
        "id": "I3QPVf0d-hhK"
      },
      "outputs": [],
      "source": [
        "y_encoded = to_categorical(y, num_classes=6)"
      ]
    },
    {
      "cell_type": "markdown",
      "metadata": {
        "id": "9Yfwv84cAFM4"
      },
      "source": [
        "Model 1 - Convolutional Neural Network (CNN)"
      ]
    },
    {
      "cell_type": "code",
      "execution_count": null,
      "metadata": {
        "id": "_JIbD-Rxp5y4"
      },
      "outputs": [],
      "source": [
        "model = Sequential([\n",
        "    Conv2D(32, (3, 3), activation='relu', input_shape=(image_height, image_width, 3)),\n",
        "    MaxPooling2D(2, 2),\n",
        "    Conv2D(64, (3, 3), activation='relu'),\n",
        "    MaxPooling2D(2, 2),\n",
        "    Flatten(),\n",
        "    Dense(128, activation='relu'),\n",
        "    Dropout(0.5),\n",
        "    Dense(6, activation='softmax')  # Six classes: \"open_eyes\", \"closed_eyes\", \"yawn\", \"no_yawn\", \"posture_strong\", \"posture_weak\"\n",
        "])"
      ]
    },
    {
      "cell_type": "code",
      "execution_count": null,
      "metadata": {
        "id": "aW2zvBCzp99u"
      },
      "outputs": [],
      "source": [
        "model.compile(optimizer=Adam(learning_rate=0.0001), loss='categorical_crossentropy', metrics=['accuracy'])"
      ]
    },
    {
      "cell_type": "code",
      "execution_count": null,
      "metadata": {
        "colab": {
          "base_uri": "https://localhost:8080/"
        },
        "id": "XPJiJzEPqAbP",
        "outputId": "30016ca7-3175-4c64-a6e9-6cf2f591b408"
      },
      "outputs": [],
      "source": [
        "history = model.fit(X_train, y_encoded[:split_index], epochs=epochs, validation_data=(X_val, y_encoded[split_index:]))"
      ]
    },
    {
      "cell_type": "code",
      "execution_count": null,
      "metadata": {
        "colab": {
          "base_uri": "https://localhost:8080/"
        },
        "id": "7EO2crm_DZNk",
        "outputId": "dd7f0bcd-ad66-4873-b9b2-18f930745587"
      },
      "outputs": [],
      "source": [
        "test_loss, test_acc = model.evaluate(X_val, y_encoded[split_index:], verbose=2)\n",
        "print(\"Test Loss:\", test_loss)\n",
        "print(\"Test Accuracy:\", test_acc)"
      ]
    },
    {
      "cell_type": "code",
      "execution_count": null,
      "metadata": {
        "colab": {
          "base_uri": "https://localhost:8080/",
          "height": 581
        },
        "id": "w6WbrpUo9fZ6",
        "outputId": "eb9d5565-5253-4aeb-eb5b-4f62dec80126"
      },
      "outputs": [],
      "source": [
        "from sklearn.metrics import confusion_matrix\n",
        "import seaborn as sns\n",
        "\n",
        "\n",
        "y_pred = model.predict(X_val)\n",
        "\n",
        "\n",
        "y_true = np.argmax(y_encoded[split_index:], axis=1)\n",
        "y_pred = np.argmax(y_pred, axis=1)\n",
        "\n",
        "\n",
        "cm = confusion_matrix(y_true, y_pred)\n",
        "\n",
        "\n",
        "plt.figure(figsize=(8, 6))\n",
        "sns.heatmap(cm, annot=True, fmt='d', cmap='Blues', xticklabels=['Open_Eyes', 'Closed_Eyes', 'Yawn', 'No_Yawn'], yticklabels=['Open_Eyes', 'Closed_Eyes', 'Yawn', 'No_Yawn'])\n",
        "plt.xlabel('Predicted')\n",
        "plt.ylabel('True')\n",
        "plt.title('Confusion Matrix')\n",
        "plt.show()\n"
      ]
    },
    {
      "cell_type": "code",
      "execution_count": null,
      "metadata": {
        "colab": {
          "base_uri": "https://localhost:8080/",
          "height": 472
        },
        "id": "GngkWx4f9yI2",
        "outputId": "fbe49fa2-258f-436f-e2ad-2124b56f4e08"
      },
      "outputs": [],
      "source": [
        "# roc curve:\n",
        "from sklearn.metrics import roc_curve, auc\n",
        "\n",
        "\n",
        "fpr, tpr, _ = roc_curve(y_true, y_pred, pos_label=1)\n",
        "roc_auc = auc(fpr, tpr)\n",
        "\n",
        "\n",
        "plt.figure()\n",
        "lw = 2\n",
        "plt.plot(fpr, tpr, color='darkorange', lw=lw, label='ROC curve (area = %0.2f)' % roc_auc)\n",
        "plt.plot([0, 1], [0, 1], color='navy', lw=lw, linestyle='--')\n",
        "plt.xlim([0.0, 1.0])\n",
        "plt.ylim([0.0, 1.05])\n",
        "plt.xlabel('False Positive Rate')\n",
        "plt.ylabel('True Positive Rate')\n",
        "plt.title('Receiver Operating Characteristic')\n",
        "plt.legend(loc='lower right')\n",
        "plt.show()\n"
      ]
    },
    {
      "cell_type": "code",
      "execution_count": null,
      "metadata": {
        "colab": {
          "base_uri": "https://localhost:8080/"
        },
        "id": "I7xeoyjH9yMU",
        "outputId": "127b17a8-dfb5-4558-9a17-bfcf283e014e"
      },
      "outputs": [],
      "source": [
        "from sklearn.metrics import classification_report\n",
        "\n",
        "# Generate a classification report\n",
        "class_names = ['Open_Eyes', 'Closed_Eyes', 'Yawn', 'No_Yawn', 'Posture_Strong', 'Posture_Weak']\n",
        "report = classification_report(y_true, y_pred, target_names=class_names)\n",
        "\n",
        "print(report)"
      ]
    },
    {
      "cell_type": "code",
      "execution_count": null,
      "metadata": {
        "colab": {
          "base_uri": "https://localhost:8080/",
          "height": 487
        },
        "id": "-Vc3LL5C9yR2",
        "outputId": "fe555b32-f64e-4e42-eeb5-63b015f387dc"
      },
      "outputs": [],
      "source": [
        "# learning curve\n",
        "\n",
        "plt.figure(figsize=(8, 5))\n",
        "plt.plot(history.history['accuracy'], label='Training Accuracy')\n",
        "plt.plot(history.history['val_accuracy'], label='Validation Accuracy')\n",
        "plt.plot(history.history['loss'], label='Training Loss')\n",
        "plt.plot(history.history['val_loss'], label='Validation Loss')\n",
        "plt.title('Learning Curve')\n",
        "plt.xlabel('Epoch')\n",
        "plt.ylabel('Score')\n",
        "plt.legend()\n",
        "plt.grid()\n",
        "plt.show()"
      ]
    },
    {
      "cell_type": "code",
      "execution_count": null,
      "metadata": {
        "colab": {
          "base_uri": "https://localhost:8080/",
          "height": 927
        },
        "id": "333izOxz850C",
        "outputId": "3a5e23cc-b304-4e9d-8d4a-bee67275f15d"
      },
      "outputs": [],
      "source": [
        "import matplotlib.pyplot as plt\n",
        "\n",
        "# Plot training & validation loss values\n",
        "plt.plot(history.history['loss'])\n",
        "plt.plot(history.history['val_loss'])\n",
        "plt.title('Model loss')\n",
        "plt.xlabel('Epoch')\n",
        "plt.ylabel('Loss')\n",
        "plt.legend(['Train', 'Validation'], loc='upper left')\n",
        "plt.show()\n",
        "\n",
        "# Plot training & validation accuracy values\n",
        "plt.plot(history.history['accuracy'])\n",
        "plt.plot(history.history['val_accuracy'])\n",
        "plt.title('Model accuracy')\n",
        "plt.xlabel('Epoch')\n",
        "plt.ylabel('Accuracy')\n",
        "plt.legend(['Train', 'Validation'], loc='upper left')\n",
        "plt.show()\n"
      ]
    },
    {
      "cell_type": "code",
      "execution_count": null,
      "metadata": {
        "colab": {
          "base_uri": "https://localhost:8080/"
        },
        "id": "nFc0IqLtqiSG",
        "outputId": "2cf7c5f1-7f4d-4cdc-d31d-3539f9cc852b"
      },
      "outputs": [],
      "source": [
        "# After training your model, save it to a file\n",
        "model.save(\"/content/drive/MyDrive/ML_INNOVATIVE/model1_cnn.h5\")"
      ]
    },
    {
      "cell_type": "markdown",
      "metadata": {
        "id": "cOdxYd_xfkkJ"
      },
      "source": [
        "Prediction"
      ]
    },
    {
      "cell_type": "code",
      "execution_count": null,
      "metadata": {
        "colab": {
          "base_uri": "https://localhost:8080/"
        },
        "id": "amPmw7Vtefb7",
        "outputId": "872d6fb6-cd06-431e-cd6a-618271a06aa3"
      },
      "outputs": [],
      "source": [
        "import tensorflow as tf\n",
        "from tensorflow.keras.preprocessing import image\n",
        "import numpy as np\n",
        "\n",
        "\n",
        "def check_drowsiness(model, image_path, image_height, image_width):\n",
        "    # Load and preprocess the input image\n",
        "    img = image.load_img(image_path, target_size=(image_height, image_width))\n",
        "    img_array = image.img_to_array(img) / 255.0\n",
        "    img_array = np.expand_dims(img_array, axis=0)\n",
        "\n",
        "    # Make predictions using the model\n",
        "    predictions = model.predict(img_array)\n",
        "\n",
        "    # Define class labels\n",
        "    class_labels = ['Open_Eyes', 'Closed_Eyes', 'Yawn', 'No_Yawn', 'Posture_Strong', 'Posture_Weak']\n",
        "\n",
        "    # Determine drowsiness\n",
        "    if predictions[0, 0] > 0.5 or predictions[0, 3] > 0.5:\n",
        "        return \"Not drowsy\"\n",
        "    else:\n",
        "        return \"Drowsy\"\n",
        "\n",
        "result = check_drowsiness(model, input_image_path, image_height, image_width)\n",
        "print(\"Drowsiness Status:\", result)\n"
      ]
    },
    {
      "cell_type": "code",
      "execution_count": null,
      "metadata": {
        "id": "1EdcitZBh2Y6"
      },
      "outputs": [],
      "source": [
        "# Load the trained model\n",
        "model_path = \"/content/drive/MyDrive/ML_INNOVATIVE/model1_cnn.h5\"\n",
        "model = tf.keras.models.load_model(model_path)\n",
        "\n",
        "# Define the input image path\n",
        "input_image_path = \"/content/drive/MyDrive/ML_INNOVATIVE/Posture/POSTURE/pos_strong/2.jpg\"\n",
        "image_height = 100\n",
        "image_width = 100"
      ]
    },
    {
      "cell_type": "code",
      "execution_count": null,
      "metadata": {
        "id": "6XEMPWhYhaCW"
      },
      "outputs": [],
      "source": [
        "def check_drowsiness(model, image_path, image_height, image_width):\n",
        "    # Load and preprocess the input image\n",
        "    img = image.load_img(image_path, target_size=(image_height, image_width))\n",
        "    img_array = image.img_to_array(img) / 255.0\n",
        "    img_array = np.expand_dims(img_array, axis=0)\n",
        "\n",
        "    # Make predictions using the model\n",
        "    predictions = model.predict(img_array)\n",
        "\n",
        "    # Define class labels\n",
        "    class_labels = [\"open_eyes_no_yawn\", \"closed_eyes_no_yawn\", \"open_eyes_yawn\", \"closed_eyes_yawn\", \"posture_strong\", \"posture_weak\"]\n",
        "\n",
        "    # Thresholds for considering a class\n",
        "    thresholds = [0.5, 0.5, 0.5, 0.5, 0.5, 0.5]\n",
        "\n",
        "    # Check if eyes are closed\n",
        "    if predictions[0, 1] > thresholds[1]:\n",
        "        return \"Drowsy\"\n",
        "\n",
        "    # Check if eyes are open and there is a yawn\n",
        "    elif predictions[0, 2] > thresholds[2]:\n",
        "        return \"Drowsy\"\n",
        "\n",
        "    # Check if eyes are open, no yawn, and weak posture\n",
        "    elif predictions[0, 5] > thresholds[5]:\n",
        "        return \"Drowsy\"\n",
        "\n",
        "    # If none of the above conditions are met, consider as not drowsy\n",
        "    return \"Not drowsy\"\n"
      ]
    },
    {
      "cell_type": "code",
      "execution_count": null,
      "metadata": {
        "colab": {
          "base_uri": "https://localhost:8080/"
        },
        "id": "1E34qjtlhkoH",
        "outputId": "1051e14b-0a0f-4aa3-f7da-4037c25ddf38"
      },
      "outputs": [],
      "source": [
        "result = check_drowsiness(model, input_image_path, image_height, image_width)\n",
        "print(\"Drowsiness Status:\", result)"
      ]
    },
    {
      "cell_type": "code",
      "execution_count": null,
      "metadata": {
        "id": "Zg4gY2osj-2n"
      },
      "outputs": [],
      "source": [
        "import os\n",
        "from PIL import Image\n",
        "import matplotlib.pyplot as plt\n",
        "from math import ceil\n",
        "\n",
        "def predict_and_display_for_folder(model, folder_path, image_height, image_width, images_per_row=3):\n",
        "    # Get a list of all files in the folder\n",
        "    image_files = [f for f in os.listdir(folder_path) if os.path.isfile(os.path.join(folder_path, f))]\n",
        "\n",
        "    # Calculate the number of rows needed\n",
        "    num_rows = ceil(len(image_files) / images_per_row)\n",
        "\n",
        "    # Iterate through each image and make predictions\n",
        "    for row in range(num_rows):\n",
        "        fig, axes = plt.subplots(1, images_per_row, figsize=(15, 5))\n",
        "\n",
        "        for col in range(images_per_row):\n",
        "            image_index = row * images_per_row + col\n",
        "            if image_index < len(image_files):\n",
        "                image_file = image_files[image_index]\n",
        "                image_path = os.path.join(folder_path, image_file)\n",
        "\n",
        "                # Load and preprocess the input image\n",
        "                img = Image.open(image_path)\n",
        "                img_array = np.array(img.resize((image_width, image_height))) / 255.0\n",
        "                img_array = np.expand_dims(img_array, axis=0)\n",
        "\n",
        "                # Make predictions using the model\n",
        "                predictions = model.predict(img_array)\n",
        "\n",
        "                # Thresholds for considering a class\n",
        "                thresholds = [0.5, 0.5, 0.5, 0.5, 0.5, 0.5]\n",
        "\n",
        "                # Check if eyes are closed\n",
        "                if predictions[0, 1] > thresholds[1]:\n",
        "                    result = \"Drowsy\"\n",
        "\n",
        "                # Check if eyes are open and there is a yawn\n",
        "                elif predictions[0, 2] > thresholds[2]:\n",
        "                    result = \"Drowsy\"\n",
        "\n",
        "                # Check if eyes are open, no yawn, and weak posture\n",
        "                elif predictions[0, 5] > thresholds[5]:\n",
        "                    result = \"Drowsy\"\n",
        "\n",
        "                # If none of the above conditions are met, consider as not drowsy\n",
        "                else:\n",
        "                    result = \"Not drowsy\"\n",
        "\n",
        "                # Display the image and prediction\n",
        "                axes[col].imshow(img)\n",
        "                axes[col].set_title(f\"{image_file}\\nPrediction: {result}\")\n",
        "                axes[col].axis('off')\n",
        "\n",
        "        plt.show()"
      ]
    },
    {
      "cell_type": "code",
      "execution_count": null,
      "metadata": {
        "colab": {
          "base_uri": "https://localhost:8080/",
          "height": 1000
        },
        "id": "7sM2C3neky6f",
        "outputId": "cb6d50c2-b2c2-4b72-a7a6-ed773c1caa23"
      },
      "outputs": [],
      "source": [
        "# Example usage:\n",
        "folder_path = \"/content/drive/MyDrive/ML_INNOVATIVE/test_new/JPG\"\n",
        "predict_and_display_for_folder(model, folder_path, image_height, image_width)"
      ]
    },
    {
      "cell_type": "code",
      "execution_count": null,
      "metadata": {
        "colab": {
          "base_uri": "https://localhost:8080/",
          "height": 445
        },
        "id": "kh1KghTsJ3G0",
        "outputId": "14b5d677-ce23-415a-bf33-0b8a54df0571"
      },
      "outputs": [],
      "source": [
        "import cv2\n",
        "import matplotlib.pyplot as plt\n",
        "\n",
        "def crop_eye(image_path):\n",
        "    # Load the image\n",
        "    image = cv2.imread(image_path)\n",
        "\n",
        "    if image is None:\n",
        "        print(\"Failed to load the image.\")\n",
        "        return None\n",
        "\n",
        "    # Convert the image to grayscale\n",
        "    gray = cv2.cvtColor(image, cv2.COLOR_BGR2GRAY)\n",
        "\n",
        "    # Load the pre-trained haarcascade eye classifier\n",
        "    eye_cascade = cv2.CascadeClassifier(cv2.data.haarcascades + 'haarcascade_eye.xml')\n",
        "\n",
        "    # Detect eyes in the image\n",
        "    eyes = eye_cascade.detectMultiScale(gray, scaleFactor=1.1, minNeighbors=5, minSize=(30, 30))\n",
        "\n",
        "    # Crop the eyes from the image\n",
        "    if len(eyes) > 0:\n",
        "        (x, y, w, h) = eyes[0]\n",
        "        cropped_eye = image[y:y+h, x:x+w]\n",
        "\n",
        "        # Resize the cropped eye image to fit the input shape of the model\n",
        "        resized_eye = cv2.resize(cropped_eye, (145, 145))\n",
        "\n",
        "        # Preprocess the image for the model\n",
        "        normalized_eye = resized_eye / 255.0\n",
        "        input_data = normalized_eye.reshape(1, 145, 145, 3)\n",
        "\n",
        "        # Display the cropped eye image\n",
        "        plt.imshow(cv2.cvtColor(cropped_eye, cv2.COLOR_BGR2RGB))\n",
        "        plt.title(\"Cropped Eye\")\n",
        "        plt.axis('off')\n",
        "        plt.show()\n",
        "\n",
        "        return cropped_eye  # Return the cropped eye image\n",
        "\n",
        "    return None  # Return None if no eyes were detected\n",
        "\n",
        "\n",
        "\n",
        "# Input image path\n",
        "image_path = \"/content/drive/MyDrive/ML_INNOVATIVE/train/IMG_1326.jpg\"\n",
        "cropped_eye = crop_eye(image_path)\n",
        "\n",
        "cv2.imwrite(\"cropped_eye_open_h.jpg\", cropped_eye)\n"
      ]
    },
    {
      "cell_type": "markdown",
      "metadata": {
        "id": "AkBKFMsIA5Sc"
      },
      "source": [
        "Model 2 - Artificial Neural Network (ANN)"
      ]
    },
    {
      "cell_type": "code",
      "execution_count": null,
      "metadata": {
        "id": "7Q-3WicvpQ_D"
      },
      "outputs": [],
      "source": [
        "num_classes = 6"
      ]
    },
    {
      "cell_type": "code",
      "execution_count": null,
      "metadata": {
        "id": "8xB5i78dA_Dj"
      },
      "outputs": [],
      "source": [
        "model_ann = Sequential([\n",
        "    Flatten(input_shape=(image_height, image_width, 3)),\n",
        "    Dense(256, activation='relu'),\n",
        "    Dropout(0.5),\n",
        "    Dense(128, activation='relu'),\n",
        "    Dense(64, activation='relu'),\n",
        "    Dense(num_classes, activation='softmax')\n",
        "])"
      ]
    },
    {
      "cell_type": "code",
      "execution_count": null,
      "metadata": {
        "id": "v_ycAe97BDO7"
      },
      "outputs": [],
      "source": [
        "model_ann.compile(optimizer=Adam(learning_rate=0.0001), loss='categorical_crossentropy', metrics=['accuracy'])"
      ]
    },
    {
      "cell_type": "code",
      "execution_count": null,
      "metadata": {
        "id": "deHgkK2bJdc4"
      },
      "outputs": [],
      "source": [
        "y_train_encoded = to_categorical(y_train, num_classes)\n",
        "y_val_encoded = to_categorical(y_val, num_classes)"
      ]
    },
    {
      "cell_type": "code",
      "execution_count": null,
      "metadata": {
        "colab": {
          "base_uri": "https://localhost:8080/"
        },
        "id": "UOjAfrZKBEyn",
        "outputId": "e48c79d4-d3a0-4ff8-b18d-1d7bd30edc65"
      },
      "outputs": [],
      "source": [
        "epochs = 100\n",
        "history = model_ann.fit(X_train, y_train_encoded, epochs=epochs, validation_data=(X_val, y_val_encoded))"
      ]
    },
    {
      "cell_type": "code",
      "execution_count": null,
      "metadata": {
        "colab": {
          "base_uri": "https://localhost:8080/"
        },
        "id": "CngvfvC2CBz2",
        "outputId": "b2c03178-674f-41ea-eb1e-90a1a74daeff"
      },
      "outputs": [],
      "source": [
        "test_loss, test_acc = model_ann.evaluate(X_val, y_val_encoded, verbose=2)\n",
        "print(\"Test Loss:\", test_loss)\n",
        "print(\"Test Accuracy:\", test_acc)"
      ]
    },
    {
      "cell_type": "code",
      "execution_count": null,
      "metadata": {
        "id": "a1NPCOaFgYgn"
      },
      "outputs": [],
      "source": [
        "# After training your model, save it to a file\n",
        "model_ann.save(\"/content/drive/MyDrive/ML_INNOVATIVE/model1_ann.h5\")"
      ]
    },
    {
      "cell_type": "code",
      "execution_count": null,
      "metadata": {
        "colab": {
          "base_uri": "https://localhost:8080/",
          "height": 927
        },
        "id": "sX2F8qVRCB2Z",
        "outputId": "4a64bc1c-b509-4e00-c22d-772c6eccc734"
      },
      "outputs": [],
      "source": [
        "import matplotlib.pyplot as plt\n",
        "\n",
        "# Plot training & validation loss values\n",
        "plt.plot(history.history['loss'])\n",
        "plt.plot(history.history['val_loss'])\n",
        "plt.title('Model loss')\n",
        "plt.xlabel('Epoch')\n",
        "plt.ylabel('Loss')\n",
        "plt.legend(['Train', 'Validation'], loc='upper left')\n",
        "plt.show()\n",
        "\n",
        "# Plot training & validation accuracy values\n",
        "plt.plot(history.history['accuracy'])\n",
        "plt.plot(history.history['val_accuracy'])\n",
        "plt.title('Model accuracy')\n",
        "plt.xlabel('Epoch')\n",
        "plt.ylabel('Accuracy')\n",
        "plt.legend(['Train', 'Validation'], loc='upper left')\n",
        "plt.show()\n"
      ]
    },
    {
      "cell_type": "markdown",
      "metadata": {
        "id": "GdDc99syEmoa"
      },
      "source": [
        "Model 3 - EfficientNetB0"
      ]
    },
    {
      "cell_type": "code",
      "execution_count": null,
      "metadata": {
        "id": "8I2IvQCrCB4Z"
      },
      "outputs": [],
      "source": [
        "import tensorflow as tf\n",
        "from tensorflow.keras.layers import SimpleRNN, Dense\n",
        "from sklearn.model_selection import train_test_split\n",
        "from tensorflow.keras.applications import EfficientNetB0\n",
        "from tensorflow.keras.optimizers import Adam\n",
        "from tensorflow.keras.layers import Dense, GlobalAveragePooling2D\n",
        "from tensorflow.keras.models import Model"
      ]
    },
    {
      "cell_type": "code",
      "execution_count": null,
      "metadata": {
        "colab": {
          "base_uri": "https://localhost:8080/"
        },
        "id": "8QjLIh_PCB7I",
        "outputId": "b957c8fc-1d54-4852-f3e6-6126f022b9ec"
      },
      "outputs": [],
      "source": [
        "base_model = EfficientNetB0(weights='imagenet', include_top=False, input_shape=(image_height, image_width, 3))"
      ]
    },
    {
      "cell_type": "code",
      "execution_count": null,
      "metadata": {
        "id": "EmxBRlVVCB-5"
      },
      "outputs": [],
      "source": [
        "x = base_model.output\n",
        "x = GlobalAveragePooling2D()(x)\n",
        "x = Dense(128, activation='relu')(x)\n",
        "x = Dense(64, activation='relu')(x)\n",
        "predictions = Dense(4, activation='softmax')(x)"
      ]
    },
    {
      "cell_type": "code",
      "execution_count": null,
      "metadata": {
        "id": "iTfx7JmjEuqB"
      },
      "outputs": [],
      "source": [
        "model_eff = Model(inputs=base_model.input, outputs=predictions)"
      ]
    },
    {
      "cell_type": "code",
      "execution_count": null,
      "metadata": {
        "id": "VwZvdfQWfXWy"
      },
      "outputs": [],
      "source": [
        "model_eff.compile(optimizer=Adam(learning_rate=0.0001), loss='categorical_crossentropy', metrics=['accuracy'])"
      ]
    },
    {
      "cell_type": "code",
      "execution_count": null,
      "metadata": {
        "id": "WfAf8xm-gVdw"
      },
      "outputs": [],
      "source": [
        "y_train_encoded = to_categorical(y_train, num_classes=4)\n",
        "y_val_encoded = to_categorical(y_val, num_classes=4)"
      ]
    },
    {
      "cell_type": "code",
      "execution_count": null,
      "metadata": {
        "id": "G9EfsZCuqNrr"
      },
      "outputs": [],
      "source": [
        "from sklearn.model_selection import KFold"
      ]
    },
    {
      "cell_type": "code",
      "execution_count": null,
      "metadata": {
        "id": "NbiI9jggqNvM"
      },
      "outputs": [],
      "source": [
        "n_splits = 5\n",
        "kf = KFold(n_splits=n_splits, shuffle=True, random_state=42)\n",
        "test_losses = []\n",
        "test_accuracies = []\n",
        "fold_histories = []\n",
        "epochs_eff = 10"
      ]
    },
    {
      "cell_type": "code",
      "execution_count": null,
      "metadata": {
        "colab": {
          "base_uri": "https://localhost:8080/"
        },
        "id": "edIrQ0DMrGs7",
        "outputId": "87d003e0-feb4-4a6a-ce21-d4eb401a0328"
      },
      "outputs": [],
      "source": [
        "for train_indices, val_indices in kf.split(X):\n",
        "    X_train, X_val = X[train_indices], X[val_indices]\n",
        "    y_train, y_val = y[train_indices], y[val_indices]\n",
        "\n",
        "    y_train_encoded = to_categorical(y_train, num_classes=4)\n",
        "    y_val_encoded = to_categorical(y_val, num_classes=4)\n",
        "\n",
        "    base_model = EfficientNetB0(weights='imagenet', include_top=False, input_shape=(image_height, image_width, 3))\n",
        "\n",
        "    x = base_model.output\n",
        "    x = GlobalAveragePooling2D()(x)\n",
        "    x = Dense(128, activation='relu')(x)\n",
        "    x = Dense(64, activation='relu')(x)\n",
        "    predictions = Dense(4, activation='softmax')(x)\n",
        "\n",
        "    model_eff = Model(inputs=base_model.input, outputs=predictions)\n",
        "\n",
        "    model_eff.compile(optimizer=Adam(learning_rate=0.0001), loss='categorical_crossentropy', metrics=['accuracy'])\n",
        "\n",
        "    history = model_eff.fit(X_train, y_train_encoded, epochs=epochs_eff, validation_data=(X_val, y_val_encoded))\n",
        "\n",
        "    fold_histories.append(history)\n",
        "\n",
        "    test_loss, test_acc = model_eff.evaluate(X_val, y_val_encoded, verbose=0)\n",
        "    print(f\"Validation Loss: {test_loss}, Validation Accuracy: {test_acc}\")\n",
        "\n",
        "    test_losses.append(test_loss)\n",
        "    test_accuracies.append(test_acc)\n",
        "\n",
        "avg_test_loss = np.mean(test_losses)\n",
        "avg_test_acc = np.mean(test_accuracies)\n",
        "print(f\"Average Test Loss: {avg_test_loss}, Average Test Accuracy: {avg_test_acc}\")"
      ]
    },
    {
      "cell_type": "code",
      "execution_count": null,
      "metadata": {
        "colab": {
          "base_uri": "https://localhost:8080/",
          "height": 1000
        },
        "id": "JPdI5Ay1rGwX",
        "outputId": "fb4e47be-9bb0-4699-baa7-60d22dc1efe2"
      },
      "outputs": [],
      "source": [
        "for i, history in enumerate(fold_histories):\n",
        "    plt.figure(figsize=(12, 6))\n",
        "\n",
        "    # Plot loss\n",
        "    plt.subplot(1, 2, 1)\n",
        "    plt.plot(history.history['loss'], label='Train Loss')\n",
        "    plt.plot(history.history['val_loss'], label='Validation Loss')\n",
        "    plt.title(f'Fold {i + 1} - Model Loss')\n",
        "    plt.xlabel('Epoch')\n",
        "    plt.ylabel('Loss')\n",
        "    plt.legend()\n",
        "\n",
        "    # Plot accuracy\n",
        "    plt.subplot(1, 2, 2)\n",
        "    plt.plot(history.history['accuracy'], label='Train Accuracy')\n",
        "    plt.plot(history.history['val_accuracy'], label='Validation Accuracy')\n",
        "    plt.title(f'Fold {i + 1} - Model Accuracy')\n",
        "    plt.xlabel('Epoch')\n",
        "    plt.ylabel('Accuracy')\n",
        "    plt.legend()\n",
        "\n",
        "    plt.show()"
      ]
    },
    {
      "cell_type": "code",
      "execution_count": null,
      "metadata": {
        "colab": {
          "base_uri": "https://localhost:8080/"
        },
        "id": "kWhEt3ntfbJt",
        "outputId": "d57ff6f1-8903-4ab7-bae4-8b56b8b6e033"
      },
      "outputs": [],
      "source": []
    },
    {
      "cell_type": "code",
      "execution_count": null,
      "metadata": {
        "colab": {
          "base_uri": "https://localhost:8080/"
        },
        "id": "aEHbxVMBfbNN",
        "outputId": "e04dc832-c9e1-493c-9248-813a39de95ba"
      },
      "outputs": [],
      "source": []
    },
    {
      "cell_type": "code",
      "execution_count": null,
      "metadata": {
        "id": "zU0vsum_GOTC"
      },
      "outputs": [],
      "source": []
    }
  ],
  "metadata": {
    "accelerator": "GPU",
    "colab": {
      "provenance": []
    },
    "kernelspec": {
      "display_name": "Python 3",
      "name": "python3"
    },
    "language_info": {
      "name": "python"
    }
  },
  "nbformat": 4,
  "nbformat_minor": 0
}
